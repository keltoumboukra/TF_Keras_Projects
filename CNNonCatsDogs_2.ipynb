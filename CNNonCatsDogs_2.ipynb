{
 "cells": [
  {
   "cell_type": "code",
   "execution_count": 9,
   "metadata": {},
   "outputs": [],
   "source": [
    "from tensorflow.keras.models import Sequential # model\n",
    "from tensorflow.keras.layers import Dense, Dropout, Activation, Flatten, Conv2D, MaxPooling2D # add layers\n",
    "from tensorflow.keras.callbacks import TensorBoard # for tensorboard\n",
    "import pickle # load data\n",
    "import time\n",
    "import numpy as np"
   ]
  },
  {
   "cell_type": "code",
   "execution_count": 10,
   "metadata": {},
   "outputs": [],
   "source": [
    "NAME = \"Cats-vs-dogs-64x2-CNN\""
   ]
  },
  {
   "cell_type": "code",
   "execution_count": 11,
   "metadata": {},
   "outputs": [],
   "source": [
    "# load data\n",
    "\n",
    "pickle_in = open(\"X.pickle\",\"rb\")\n",
    "X = pickle.load(pickle_in)\n",
    "\n",
    "pickle_in = open(\"y.pickle\",\"rb\")\n",
    "y = pickle.load(pickle_in)"
   ]
  },
  {
   "cell_type": "code",
   "execution_count": 12,
   "metadata": {},
   "outputs": [],
   "source": [
    "# build model\n",
    "\n",
    "y = np.array(y)\n",
    "X = X/255.0\n",
    "\n",
    "model = Sequential()\n",
    "\n",
    "# add layer 1\n",
    "model.add(Conv2D(64, (3, 3), input_shape=X.shape[1:]))\n",
    "model.add(Activation('relu'))\n",
    "model.add(MaxPooling2D(pool_size=(2, 2)))\n",
    "\n",
    "# add layer 2\n",
    "model.add(Conv2D(64, (3, 3)))\n",
    "model.add(Activation('relu'))\n",
    "model.add(MaxPooling2D(pool_size=(2, 2)))\n",
    "\n",
    "# out\n",
    "model.add(Flatten()) \n",
    "model.add(Dense(64))\n",
    "model.add(Activation('relu'))\n",
    "\n",
    "model.add(Dense(1))\n",
    "model.add(Activation('sigmoid'))\n",
    "\n",
    "tensorboard = TensorBoard(log_dir=\"logs/{}\".format(NAME))"
   ]
  },
  {
   "cell_type": "code",
   "execution_count": 13,
   "metadata": {},
   "outputs": [],
   "source": [
    "# compile\n",
    "\n",
    "\n",
    "model.compile(loss='binary_crossentropy',\n",
    "              optimizer='adam',\n",
    "              metrics=['accuracy'],\n",
    "              )"
   ]
  },
  {
   "cell_type": "code",
   "execution_count": 14,
   "metadata": {},
   "outputs": [
    {
     "name": "stdout",
     "output_type": "stream",
     "text": [
      "Epoch 1/10\n",
      "546/546 [==============================] - 132s 241ms/step - loss: 0.6324 - accuracy: 0.6386 - val_loss: 0.5521 - val_accuracy: 0.7186\n",
      "Epoch 2/10\n",
      "546/546 [==============================] - 136s 249ms/step - loss: 0.5105 - accuracy: 0.7491 - val_loss: 0.5028 - val_accuracy: 0.7591\n",
      "Epoch 3/10\n",
      "546/546 [==============================] - 134s 246ms/step - loss: 0.4514 - accuracy: 0.7898 - val_loss: 0.4889 - val_accuracy: 0.7624\n",
      "Epoch 4/10\n",
      "546/546 [==============================] - 138s 253ms/step - loss: 0.3915 - accuracy: 0.8212 - val_loss: 0.4798 - val_accuracy: 0.7787\n",
      "Epoch 5/10\n",
      "546/546 [==============================] - 159s 292ms/step - loss: 0.3251 - accuracy: 0.8586 - val_loss: 0.4838 - val_accuracy: 0.7745\n",
      "Epoch 6/10\n",
      "546/546 [==============================] - 242s 444ms/step - loss: 0.2569 - accuracy: 0.8891 - val_loss: 0.5585 - val_accuracy: 0.7735\n",
      "Epoch 7/10\n",
      "546/546 [==============================] - 436s 799ms/step - loss: 0.1804 - accuracy: 0.9281 - val_loss: 0.6546 - val_accuracy: 0.7696\n",
      "Epoch 8/10\n",
      "546/546 [==============================] - 1007s 2s/step - loss: 0.1093 - accuracy: 0.9600 - val_loss: 0.7540 - val_accuracy: 0.7672\n",
      "Epoch 9/10\n",
      "546/546 [==============================] - 1073s 2s/step - loss: 0.0695 - accuracy: 0.9772 - val_loss: 0.8654 - val_accuracy: 0.7651\n",
      "Epoch 10/10\n",
      "546/546 [==============================] - 1085s 2s/step - loss: 0.0426 - accuracy: 0.9863 - val_loss: 1.0617 - val_accuracy: 0.7631\n"
     ]
    },
    {
     "data": {
      "text/plain": [
       "<tensorflow.python.keras.callbacks.History at 0x1504ecdc0>"
      ]
     },
     "execution_count": 14,
     "metadata": {},
     "output_type": "execute_result"
    }
   ],
   "source": [
    "model.fit(X, y,\n",
    "          batch_size=32,\n",
    "          epochs=10,\n",
    "          validation_split=0.3,\n",
    "          callbacks=[tensorboard])"
   ]
  },
  {
   "cell_type": "code",
   "execution_count": null,
   "metadata": {},
   "outputs": [],
   "source": []
  }
 ],
 "metadata": {
  "kernelspec": {
   "display_name": "Python 3",
   "language": "python",
   "name": "python3"
  },
  "language_info": {
   "codemirror_mode": {
    "name": "ipython",
    "version": 3
   },
   "file_extension": ".py",
   "mimetype": "text/x-python",
   "name": "python",
   "nbconvert_exporter": "python",
   "pygments_lexer": "ipython3",
   "version": "3.8.3"
  }
 },
 "nbformat": 4,
 "nbformat_minor": 4
}
